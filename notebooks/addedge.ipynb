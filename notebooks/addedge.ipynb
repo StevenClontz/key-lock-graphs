{
 "cells": [
  {
   "cell_type": "markdown",
   "metadata": {},
   "source": [
    "Previously: [Gluing](./gluing.ipynb)\n",
    "\n",
    "# 5. Adding Edges"
   ]
  },
  {
   "cell_type": "markdown",
   "metadata": {},
   "source": [
    "### Proposition\n",
    "\n",
    "Let $G$ be $SK_1$. If $e$ is any non-lock edge, then $G\\cup\\{e\\}$ is $SK_1$.\n",
    "\n",
    "#### Proof\n",
    "\n",
    "A complete admissible path in $G$ is a complete admissible path in $G\\cup\\{e\\}$."
   ]
  },
  {
   "cell_type": "markdown",
   "metadata": {},
   "source": [
    "### Definition\n",
    "\n",
    "We say two vertices $v,w$ of a key-lock graph are **nearby** provided there is a path between them\n",
    "that uses at most one lock edge."
   ]
  },
  {
   "cell_type": "markdown",
   "metadata": {},
   "source": [
    "### Theorem\n",
    "\n",
    "Let $G$ be $SK_2$. If $e$ is a non-lock edge between any pair of nearby vertices $v,w$, then $G\\cup\\{e\\}$ is $SK_2$.\n",
    "\n",
    "#### Proof\n",
    "\n",
    "Let $W$ be a greedy walk in $G\\cup\\{e\\}$. Let $P$ be a path in $G$ between $v,w$ that uses at most one lock edge.\n",
    "\n",
    "If $P$ uses no lock edges, then consider the modification $W'$ of $W$ that replaces any use of $e$ with $P$ or $P^{-1}$.\n",
    "Then $W'$ is a greedy walk of $G$, and is therefore admissible. It follows that $W$ is admissible too.\n",
    "\n",
    "If $P$ uses one lock edge $L$, consider the initial subwalk of $G$ that follows $W$ up until any use of $e$, ending\n",
    "(say) at $v$. Extend this walk until it has visited every vertex it can without using a lock edge, ending at $v$.\n",
    "Then use $P$ to extend this walk to reach $w$, and return to using $W$ from where we left off. This new walk is\n",
    "greedy in $G$, and is therefore admissible. It follows that $W$ is admissible as well: each time it uses a lock edge\n",
    "for the first time, $V$ also used this lock edge after visiting every vertex traveled by $W$ by that point."
   ]
  },
  {
   "cell_type": "markdown",
   "metadata": {},
   "source": [
    "### Corollary\n",
    "\n",
    "Level 1 of Zelda 1 is $SK_2$.\n",
    "\n",
    "#### Proof\n",
    "\n",
    "We [already showed](./gluing.ipynb) it is $SK_2$ when the bombable walls are ignored.\n",
    "\n",
    "The west bombable wall connects nearby vertices, so its addition preserves $SK_2$ by the previous theorem.\n",
    "\n",
    "In the resulting key-lock graph, the east bombable wall now connects nearby vertices, finishing the proof."
   ]
  },
  {
   "cell_type": "markdown",
   "metadata": {},
   "source": [
    "### Definition\n",
    "\n",
    "A **component** of a key-lock graph is a maximal connected subgraph without any lock edges."
   ]
  },
  {
   "cell_type": "markdown",
   "metadata": {},
   "source": [
    "### Conjecture\n",
    "\n",
    "Let $G$ be a $SK_2$, and let $e$ be a non-lock edge connecting two distinct components of $G$ that both contain at least\n",
    "one key vertex. Then $G\\cup\\{e\\}$ is $SK_2$.\n",
    "\n",
    "#### Proof?\n",
    "\n",
    "Let $W$ be a greedy walk of $G\\cup\\{e\\}$. If $W$ does not use $e$, it is a greedy walk of $G$ and is thus admissible\n",
    "in $G$ and $G\\cup\\{e\\}$.\n",
    "\n",
    "Otherwise, truncate $W$ to not cross $e$, then extend this to reach every vertex accessible without crossing a new\n",
    "lock edge, and then crosses a new lock edge in $G$. This is a greedy walk in $G$, and is thus admissible..."
   ]
  }
 ],
 "metadata": {
  "kernelspec": {
   "display_name": "Python 3",
   "language": "python",
   "name": "python3"
  },
  "language_info": {
   "name": "python",
   "version": "3.12.1"
  }
 },
 "nbformat": 4,
 "nbformat_minor": 2
}
