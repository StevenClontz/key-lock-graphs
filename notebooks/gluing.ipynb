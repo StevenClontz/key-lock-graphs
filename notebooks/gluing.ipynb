{
 "cells": [
  {
   "cell_type": "markdown",
   "metadata": {},
   "source": [
    "Previously: [Greedy graphs](./greedy.ipynb)\n",
    "\n",
    "# 4. Gluing"
   ]
  },
  {
   "cell_type": "markdown",
   "metadata": {},
   "source": [
    "### Definition\n",
    "\n",
    "Let $G,H$ be key-lock graphs and $v$ be any vertex in $G$.\n",
    "\n",
    "Then $GvH$ is the **gluing** of $G$ to $H$ at $v$, that is, the key-lock graph that contains\n",
    "$G,H$ as subgraphs, and includes a single edge between $G$ and $H$ from $v$ to $s_h$."
   ]
  },
  {
   "cell_type": "markdown",
   "metadata": {},
   "source": [
    "### Theorem\n",
    "\n",
    "Let $G,H$ be $SK_2$, and let $v\\in G$. Then $GvH$ is $SK_2$.\n",
    "\n",
    "#### Proof\n",
    "\n",
    "Let $W$ be a partial admissible walk."
   ]
  },
  {
   "cell_type": "markdown",
   "metadata": {},
   "source": [
    "##### Case 1\n",
    "\n",
    "Suppose for every initial restriction $U$ of $W$,\n",
    "$U$ satisfies $k_G(U)\\geq l_G(U)$ and $k_H(U)\\geq l_H(U)$.\n",
    "\n",
    "##### Case 1.1\n",
    "\n",
    "Suppose $W$ misses a lock edge in $G$. Then consider the modifiction $W'$ of $W$\n",
    "that removes the vertices in $H$. It follows from $k_G(U)\\geq l_G(U)$ that $W'$ is a partial admissible walk\n",
    "in $G$. Since $G$ is $SK_2$, $W'$ may be extended by $X$ so that $W'X$ is an admissible\n",
    "walk in $G$ that includes one extra lock edge.\n",
    "\n",
    "Let $W''$ be an admissible walk extending $W$ (perhaps vacuously) so it ends at the\n",
    "final vertex of $W'$; it follows that $W''X$ is an admissible walk of $GvH$ that\n",
    "traverses one more lock edge than $W$.\n",
    "\n",
    "##### Case 1.2\n",
    "\n",
    "Suppose $W$ misses a lock edge in $H$. Then consider the modifiction $W'$ of $W$\n",
    "that removes the vertices in $G$. It follows from $k_H(U)\\geq l_H(U)$ that $W'$ is a partial admissible walk\n",
    "in $H$. Since $H$ is $SK_2$, $W'$ may be extended by $X$ so that $W'X$ is an admissible\n",
    "walk in $H$ that includes one extra lock edge.\n",
    "\n",
    "Let $W''$ be an admissible walk extending $W$ (perhaps vacuously) so it ends at the\n",
    "final vertex of $W'$; it follows that $W''X$ is an admissible walk of $GvH$ that\n",
    "traverses one more lock edge than $W$."
   ]
  },
  {
   "cell_type": "markdown",
   "metadata": {},
   "source": [
    "### Case 2\n",
    "\n",
    "If not, there is some minimal restriction $U$ of $W$ such that either $k_G(U)<l_G(U)$ or $k_H(U)<l_H(U)$.\n",
    "\n",
    "##### Case 2.1\n",
    "\n",
    "If $k_G(U)<l_G(U)$, the final edge of $U$ is a lock edge in $G$...\n",
    "\n",
    "##### Case 2.2\n",
    "\n",
    "If $k_H(U)<l_H(U)$, the final edge of $U$ is a lock edge in $H$..."
   ]
  }
 ],
 "metadata": {
  "kernelspec": {
   "display_name": "Python 3",
   "language": "python",
   "name": "python3"
  },
  "language_info": {
   "name": "python",
   "version": "3.12.1"
  }
 },
 "nbformat": 4,
 "nbformat_minor": 2
}
