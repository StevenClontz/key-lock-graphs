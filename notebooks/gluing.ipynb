{
 "cells": [
  {
   "cell_type": "markdown",
   "metadata": {},
   "source": [
    "Previously: [Greedy graphs](./greedy.ipynb)\n",
    "\n",
    "# 4. Gluing"
   ]
  },
  {
   "cell_type": "markdown",
   "metadata": {},
   "source": [
    "### Definition\n",
    "\n",
    "Let $G,H$ be key-lock graphs and $v$ be any vertex in $G$.\n",
    "\n",
    "Then $GvH$ is the **gluing** of $G$ to $H$ at $v$, that is, the key-lock graph that contains\n",
    "$G,H$ as subgraphs, and includes a single edge between $G$ and $H$ from $v$ to $s_h$."
   ]
  },
  {
   "cell_type": "markdown",
   "metadata": {},
   "source": [
    "### Proposition\n",
    "\n",
    "Let $G,H$ be $SK_1$, and let $v\\in G$. Then $GvH$ is $SK_1$.\n",
    "\n",
    "#### Proof\n",
    "\n",
    "Let $W$ be a complete admissible walk of $G$ and $V$ be a complete admissible walk of $H$. Extend $W$ to end at $v$ and then traverse $V$; this is a complete admissible walk of $GvH$."
   ]
  },
  {
   "cell_type": "markdown",
   "metadata": {},
   "source": [
    "### Theorem\n",
    "\n",
    "Let $G,H$ be $SK_2$, and let $v\\in G$. Then $GvH$ is $SK_2$."
   ]
  },
  {
   "cell_type": "markdown",
   "metadata": {},
   "source": [
    "#### Proof\n",
    "\n",
    "Let $W$ be a greedy walk of $GvH$, and let $V$ be an initial subwalk of $W$.\n",
    "\n",
    "Let $W_G$ be the restriction of $W$ to $G$. It follows $W_G$ is a greedy walk of $G$, and is thus admissible by $SK_2$.\n",
    "Let $V_G$ be the restriction of $V$ to $G$, an initial subwalk of $W_G$. Since $W_G$ is admissible, $k_G(V_G)\\geq l_G(V_G)$.\n",
    "\n",
    "Likewise, $W_H$ is a greedy walk of $H$, and is thus admissible by $SK_2$.\n",
    "Let $V_H$ be the restriction of $V$ to $H$, an initial subwalk of $W_H$. Since $W_H$ is admissible, $k_H(V_H)\\geq l_H(V_H)$.\n",
    "\n",
    "It follows that $k_{GvH}(V)=k_G(V)+k_H(V)\\geq l_G(V)+l_H(V)=l_{GvH}(V)$. Thus $W$ is admissible."
   ]
  },
  {
   "cell_type": "markdown",
   "metadata": {},
   "source": [
    "### Corollary\n",
    "\n",
    "Level 1 of Zelda 1 is $SK_2$, provided you don't have bombs.\n",
    "\n",
    "##### Proof\n",
    "\n",
    "It is the gluing of two tunnel (and therefore $SK_2$) graphs.\n",
    "\n",
    "![alt text](../assets/z1level1.png)"
   ]
  }
 ],
 "metadata": {
  "kernelspec": {
   "display_name": "Python 3",
   "language": "python",
   "name": "python3"
  },
  "language_info": {
   "name": "python",
   "version": "3.12.1"
  }
 },
 "nbformat": 4,
 "nbformat_minor": 2
}
