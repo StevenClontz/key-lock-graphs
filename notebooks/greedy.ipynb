{
 "cells": [
  {
   "cell_type": "markdown",
   "metadata": {},
   "source": [
    "Previously: [Tunnel Graphs](./tunnel.ipynb)\n",
    "\n",
    "# 3. Greedy Walks"
   ]
  },
  {
   "cell_type": "markdown",
   "metadata": {},
   "source": [
    "### Definition\n",
    "\n",
    "An admissible walk in a key-lock graph is said to be **greedy** provided\n",
    "\n",
    "- the walk cannot be extended to include a new vertex without using a new lock edge, and\n",
    "- for each lock edge used, the restriction of the walk up until its first use cannot be extended to include a new vertex without using a new lock edge."
   ]
  },
  {
   "cell_type": "markdown",
   "metadata": {},
   "source": [
    "### Theorem\n",
    "\n",
    "A key-lock graph $G$ is $SK_2$ if and only if for every partial greedy walk $W$, $k_G(W)>l_G(W)$.\n",
    "\n",
    "##### Proof\n",
    "\n",
    "Suppose there existed a partial greedy walk $W$ with $k_G(W)\\leq l_G(W)$. Since the walk is greedy,\n",
    "every extension $W'$ of $W$ that does not use a new lock edge has $k_G(W')=k_G(W)\\leq l_G(W)$."
   ]
  },
  {
   "cell_type": "markdown",
   "metadata": {},
   "source": [
    "# Next up\n",
    "\n",
    "[Gluing](./gluing.ipynb)"
   ]
  }
 ],
 "metadata": {
  "language_info": {
   "name": "python"
  }
 },
 "nbformat": 4,
 "nbformat_minor": 2
}
