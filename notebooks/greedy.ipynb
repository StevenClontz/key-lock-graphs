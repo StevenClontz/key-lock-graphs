{
 "cells": [
  {
   "cell_type": "markdown",
   "metadata": {},
   "source": [
    "Previously: [Tunnel Graphs](./tunnel.ipynb)\n",
    "\n",
    "# 3. Greedy Walks"
   ]
  },
  {
   "cell_type": "markdown",
   "metadata": {},
   "source": [
    "### Definition\n",
    "\n",
    "Given a walk $W$ in a key-lock graph using a lock edge $L$, let $W_L$ be the initial subwalk of $W$ that ends right before $L$ is first used, and $W_L^+$ be the initial subwalk of $W$ that ends right after $L$ is first used.\n",
    "\n",
    "Then $W$ is said to be a **greedy walk** provided for each used lock edge $L$, $W_L$ cannot be extended to visit a new vertex without also using a new lock edge."
   ]
  },
  {
   "cell_type": "markdown",
   "metadata": {},
   "source": [
    "### Theorem\n",
    "\n",
    "A key-lock graph $G$ is $SK_2$ if and only if every greedy walk is admissible.\n",
    "\n",
    "##### Proof\n",
    "\n",
    "Let $G$ be $SK_2$ and $W$ be a greedy walk. If $W$ wasn't admissible, it must have used a lock $L$ such that $k(W_L^+)<l(W_L^+)$; let $L$ be the first such lock, so $W_L$ is a partial admissible walk with $k(W_L)=l(W_L)$. By $SK_2$, $W_L$ must be able to extend to an admissible walk that includes one new lock edge. But by greedy, $W_L$ cannot be extended to reach any new key vertices without first using a new lock edge, a contradiction.\n",
    "\n",
    "Now assume every greedy walk is admissible, and let $W$ be a partial admissible walk. Let $W$ first pass through the locks\n",
    "$L_0,\\dots,L_{n-1}$ in that order, and has not yet passed through some reachable lock $L_n$. Consider any greedy, and thus admissible, walk $V$ that first passes through the locks $L_0,\\dots,L_{n-1},L_n$ in that order. Then consider $WW^{-1}V$, which walks along $W$, then in the reverse direction back to $s_G$, and then along $V$. This extension of $W$ is admissible, and uses a new lock $L_n$, proving $SK_2$."
   ]
  },
  {
   "cell_type": "markdown",
   "metadata": {},
   "source": [
    "### Corollary\n",
    "\n",
    "Level 2 of Zelda 1 is $SK_2$.\n",
    "\n",
    "#### Proof\n",
    "\n",
    "Every greedy walk collects all keys before using any lock edge, and is thus admissible.\n",
    "\n",
    "![](../assets/z1level2.png)"
   ]
  },
  {
   "cell_type": "markdown",
   "metadata": {},
   "source": [
    "# Next up\n",
    "\n",
    "[Gluing](./gluing.ipynb)"
   ]
  }
 ],
 "metadata": {
  "language_info": {
   "name": "python"
  }
 },
 "nbformat": 4,
 "nbformat_minor": 2
}
