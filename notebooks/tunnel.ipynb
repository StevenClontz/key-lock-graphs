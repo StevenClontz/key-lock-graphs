{
 "cells": [
  {
   "cell_type": "markdown",
   "metadata": {},
   "source": [
    "Previously: [Basics](./basics.ipynb)\n",
    "\n",
    "# 2. Tunnel Graphs"
   ]
  },
  {
   "cell_type": "markdown",
   "metadata": {},
   "source": [
    "### Definition\n",
    "\n",
    "The **regions** of a key-lock graph are defined as follows.\n",
    "\n",
    "- Region $R_0\\subseteq V(G)$ includes all vertices that are connected to the\n",
    "  starting vertex by a walk that uses no lock edges.\n",
    "- Given regions $R_0,\\dots,R_n$ for some $n$, if\n",
    "  $\\bigcup_{i=0}^n R_i\\subsetneq V(G)$, the region $R_{n+1}$ includes all vertices\n",
    "  in $V(G)\\setminus\\bigcup_{i=0}^n R_i$ that are connected to $R_n$ by a walk\n",
    "  that uses exactly one lock edge."
   ]
  },
  {
   "cell_type": "markdown",
   "metadata": {},
   "source": [
    "### Definition\n",
    "\n",
    "A key-lock graph is said to be a **tunnel graph** if for every pair of consequitive regions $R_n,R_{n+1}$,\n",
    "there is a unique lock edge $L_n$ between a vertex in $R_n$ and a vertex in $R_{n+1}$."
   ]
  },
  {
   "cell_type": "markdown",
   "metadata": {},
   "source": [
    "### Definition\n",
    "\n",
    "A tunnel graph with $N$ locks is said to be **well-keyed** provided\n",
    "$$\n",
    "\\sum_{n=0}^{M} k(R_n) \\geq {M + 1}\n",
    "$$\n",
    "for all $0\\leq M<N$."
   ]
  },
  {
   "cell_type": "markdown",
   "metadata": {},
   "source": [
    "### Theorem\n",
    "\n",
    "A tunnel graph is $SK_2$ if and only if it is $SK_1$ if and only if it is well-keyed.\n",
    "\n",
    "#### Proof\n",
    "\n",
    "Note that $SK_2\\Rightarrow SK_1$ for any graph. So let\n",
    "$G$ satisfy $SK_1$; we will prove it is well-keyed. Note that if\n",
    "the graph has $N=0$ locks, it is well-keyed vacuously.\n",
    "\n",
    "So suppose the inequality holds for $N$ locks; we will show it holds for $N+1$ locks.\n",
    "So given a tunnel graph $G$ with $N+1$ locks $L_0,\\dots,L_N$ and $N+2$ regions\n",
    "$R_0,\\dots,R_{N+1}$ which is $SK_1$, let $W$ be a admissible walk that passes\n",
    "through all $N+1$ locks. Consider the subgraph $G'$ of $G$ induced by\n",
    "$\\bigcup_{n=0}^N R_n$ (that is, deleting $L_N$ and $R_{N+1}$).\n",
    "Note that $G'$ is an tunnel graph with $N+1$ regions and\n",
    "$N$ locks, and if we let $W'$ be the initial subwalk of $W$ removing the first vertex of $R_{N+1}$\n",
    "and all following vertices, then $W'$ is an admissible walk over $G'$, showing $G'$ is $SK_1$.\n",
    "Thus by the induction hypothesis, $G'$ (and thus $G$) satisfies the inequalities\n",
    "$$\n",
    "\\sum_{n=0}^{M} k(R_n) \\geq M + 1\n",
    "$$\n",
    "for all $0\\leq M < N$. It remains to be shown that\n",
    "$$\n",
    "\\sum_{n=0}^{N} k(R_n) \\geq N + 1.\n",
    "$$\n",
    "\n",
    "But we have that $W$ is an admissible walk, and if we let $W''$ be the\n",
    "initial subwalk of $W$ removing all vertices following the first vertex of $R_{N+1}$,\n",
    "we must have $k(W'')\\geq l(W'')$. Thus we may conclude\n",
    "$$\n",
    "\\sum_{n=0}^{N} k(R_n) \\geq\n",
    "k(W'') \\geq\n",
    "l(W'') =\n",
    "N+1.\n",
    "$$\n",
    "\n",
    "&nbsp;\n",
    "\n",
    "So finally, assume $G$ is a well-keyed tunnel graph;\n",
    "we will show that it satisfies $SK_2$. To do this, let $W$ be a partial\n",
    "admissible walk; we will show that it can be extended to use one more\n",
    "lock edge.\n",
    "\n",
    "If $G$ has $N$ locks and $N+1$ regions, then $W$ uses $M$ lock edges for\n",
    "some $M<N$; in particular, it must use the lock edges $L_0,\\dots,L_{M-1}$.\n",
    "It follows that it includes vertices in regions $R_m$ for all\n",
    "$0\\leq m\\leq M$. Thus it may be extended to an admissible walk $W'$ that\n",
    "includes all vertices in those regions.\n",
    "\n",
    "Since the graph is well-keyed, there exist at least $M+1$ keys in these\n",
    "regions. Thus $W'$ may be extended to an admissible walk that uses $L_M$.\n",
    "$\\square$"
   ]
  },
  {
   "cell_type": "markdown",
   "metadata": {},
   "source": [
    "# Next up\n",
    "\n",
    "[Greedy walks](./greedy.ipynb)"
   ]
  }
 ],
 "metadata": {
  "language_info": {
   "name": "python"
  }
 },
 "nbformat": 4,
 "nbformat_minor": 2
}
