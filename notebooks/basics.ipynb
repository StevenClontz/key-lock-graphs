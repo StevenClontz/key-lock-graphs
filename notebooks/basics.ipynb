{
 "cells": [
  {
   "cell_type": "markdown",
   "metadata": {},
   "source": [
    "# Basics"
   ]
  },
  {
   "cell_type": "markdown",
   "metadata": {},
   "source": [
    "### Definition\n",
    "\n",
    "A **key-lock graph** is a simple (loopless, no multiedges) connected\n",
    "graph $G$ with a designated **starting vertex** $s_G\\in V(G)$,\n",
    "$N$ **key vertices** in $V(G)$, and\n",
    "$N$ **lock edges** in $E(G)$."
   ]
  },
  {
   "cell_type": "markdown",
   "metadata": {},
   "source": [
    "### Definition\n",
    "\n",
    "Given a subgraph $H$ of a key-lock graph, let $k(H)$ count the number of its\n",
    "distinct key vertices, and let $l(H)$ count the number of its distinct lock edges."
   ]
  },
  {
   "cell_type": "markdown",
   "metadata": {},
   "source": [
    "### Definition\n",
    "\n",
    "A walk (finite sequence of neighboring vertices) $W$\n",
    "of a key-lock graph is said to be **admissible** provided:\n",
    "\n",
    "- The walk $W$ begins at $s$.\n",
    "- $k(U)\\geq l(U)$ for every initial restriction $U$ of $W$.\n",
    "\n",
    "If a walk uses every lock edge, it is said to be **complete**; otherwise,\n",
    "it is **partial**."
   ]
  },
  {
   "cell_type": "markdown",
   "metadata": {},
   "source": [
    "### Definition\n",
    "\n",
    "A key-lock graph is $SK_1$ provided there exists a complete admissible walk.\n",
    "\n",
    "It is $SK_2$ provided every admissible walk may be extended into a complete admissible walk."
   ]
  },
  {
   "cell_type": "markdown",
   "metadata": {},
   "source": [
    "### Proposition\n",
    "\n",
    "A key-lock graph is $SK_2$ if and only if every partial admissible walk may be extended\n",
    "into an admissible walk that uses one additional lock edge."
   ]
  }
 ],
 "metadata": {
  "kernelspec": {
   "display_name": "Python 3",
   "language": "python",
   "name": "python3"
  },
  "language_info": {
   "name": "python",
   "version": "3.12.1"
  }
 },
 "nbformat": 4,
 "nbformat_minor": 2
}
