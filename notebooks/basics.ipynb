{
 "cells": [
  {
   "cell_type": "markdown",
   "metadata": {},
   "source": [
    "# Basics"
   ]
  },
  {
   "cell_type": "markdown",
   "metadata": {},
   "source": [
    "### Definition\n",
    "\n",
    "A **key-lock graph** is a simple (loopless, no multiedges) connected\n",
    "graph $G$ with a designated **starting vertex** $s\\in V(G)$,\n",
    "$N$ **key vertices** $\\{K_0,\\dots,K_{N-1}\\}\\subseteq V(G)$, and\n",
    "$N$ **lock edges** $\\{L_0,\\dots,L_{N-1}\\}\\subseteq E(G)$."
   ]
  },
  {
   "cell_type": "markdown",
   "metadata": {},
   "source": [
    "### Definition\n",
    "\n",
    "Given a subgraph $H$ of a key-lock graph, let $k(H)$ count the number of its\n",
    "key vertices, and let $l(H)$ count the number of its lock edges."
   ]
  },
  {
   "cell_type": "markdown",
   "metadata": {},
   "source": [
    "### Definition\n",
    "\n",
    "A walk (finite sequence of neighboring vertices) $T$\n",
    "of a key-lock graph is said to be **admissible** provided:\n",
    "\n",
    "- The walk $T$ begins at $s$.\n",
    "- $k(S)\\geq l(S)$ for every initial restriction $S$ of $T$.\n",
    "\n",
    "If a walk uses every lock edge, it is said to be **complete**; otherwise,\n",
    "it is **partial**."
   ]
  },
  {
   "cell_type": "markdown",
   "metadata": {},
   "source": [
    "### Definition\n",
    "\n",
    "A key-lock graph is $SK_1$ provided there exists a complete admissible walk.\n",
    "\n",
    "It is $SK_2$ provided every admissible walk may be extended into a complete admissible walk."
   ]
  },
  {
   "cell_type": "markdown",
   "metadata": {},
   "source": [
    "### Proposition\n",
    "\n",
    "A key-lock graph is $SK_2$ if and only if every partial admissible walk may be extended\n",
    "into an admissible walk that uses one additional lock edge."
   ]
  }
 ],
 "metadata": {
  "kernelspec": {
   "display_name": "Python 3",
   "language": "python",
   "name": "python3"
  },
  "language_info": {
   "name": "python",
   "version": "3.12.1"
  }
 },
 "nbformat": 4,
 "nbformat_minor": 2
}
